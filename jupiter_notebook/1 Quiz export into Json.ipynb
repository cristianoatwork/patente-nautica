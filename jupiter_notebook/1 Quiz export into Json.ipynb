{
 "cells": [
  {
   "cell_type": "code",
   "execution_count": 34,
   "id": "26359146",
   "metadata": {},
   "outputs": [],
   "source": [
    "import pandas as pd\n",
    "\n",
    "FILE_PATH = \"xlsx/ALLEGATO A QUIZ PATENTI NAUTICHE DD 131 DEL 31 MAGGIO 2022.xlsx\"\n",
    "\n",
    "QUIZ_BASE_START_ROW = 1\n",
    "QUIZ_BASE_END_ROW   = 1719\n",
    "N_ROWS = QUIZ_BASE_END_ROW-QUIZ_BASE_START_ROW-1\n",
    "\n",
    "QUIZ_BASE_COLUMNS   = \"A,C,G,W,AA,AB,AK,AM,AS,AT,AX,BB,BG\"\n",
    "\n",
    "df = pd.read_excel(FILE_PATH,\n",
    "                   skiprows=lambda x: x < QUIZ_BASE_START_ROW,\n",
    "                   usecols=QUIZ_BASE_COLUMNS,\n",
    "                   nrows=N_ROWS\n",
    "                  )"
   ]
  },
  {
   "cell_type": "code",
   "execution_count": 35,
   "id": "f0256ebe",
   "metadata": {},
   "outputs": [],
   "source": [
    "#df.head(7)"
   ]
  },
  {
   "cell_type": "code",
   "execution_count": 36,
   "id": "01510d60",
   "metadata": {},
   "outputs": [],
   "source": [
    "#df.iloc[:, 0].notna()"
   ]
  },
  {
   "cell_type": "code",
   "execution_count": 37,
   "id": "e2e973b6",
   "metadata": {},
   "outputs": [
    {
     "name": "stderr",
     "output_type": "stream",
     "text": [
      "/var/folders/n2/r_bwyryn1rz08r3ngw0hql9w0000gn/T/ipykernel_67890/1103893849.py:3: SettingWithCopyWarning: \n",
      "A value is trying to be set on a copy of a slice from a DataFrame\n",
      "\n",
      "See the caveats in the documentation: https://pandas.pydata.org/pandas-docs/stable/user_guide/indexing.html#returning-a-view-versus-a-copy\n",
      "  ddff.rename(columns = {'Unnamed: 0':'INDEX'}, inplace = True)\n",
      "/var/folders/n2/r_bwyryn1rz08r3ngw0hql9w0000gn/T/ipykernel_67890/1103893849.py:4: SettingWithCopyWarning: \n",
      "A value is trying to be set on a copy of a slice from a DataFrame.\n",
      "Try using .loc[row_indexer,col_indexer] = value instead\n",
      "\n",
      "See the caveats in the documentation: https://pandas.pydata.org/pandas-docs/stable/user_guide/indexing.html#returning-a-view-versus-a-copy\n",
      "  ddff[\"INDEX\"] = ddff[\"INDEX\"].astype(int)\n"
     ]
    }
   ],
   "source": [
    "tf = df.iloc[:, 0].notna()\n",
    "ddff = df.loc[tf, :]\n",
    "ddff.rename(columns = {'Unnamed: 0':'INDEX'}, inplace = True)\n",
    "ddff[\"INDEX\"] = ddff[\"INDEX\"].astype(int)\n",
    "#ddff[0:10]"
   ]
  },
  {
   "cell_type": "code",
   "execution_count": 38,
   "id": "b2808a2d",
   "metadata": {},
   "outputs": [],
   "source": [
    "#ddff.tail()"
   ]
  },
  {
   "cell_type": "code",
   "execution_count": 32,
   "id": "c012cd66",
   "metadata": {},
   "outputs": [],
   "source": [
    "ddff.to_json(r'output/quiz_base.json',orient = 'split',index = 'False',indent = 2)"
   ]
  },
  {
   "cell_type": "code",
   "execution_count": null,
   "id": "2f2cac32",
   "metadata": {},
   "outputs": [],
   "source": []
  }
 ],
 "metadata": {
  "kernelspec": {
   "display_name": "Python 3 (ipykernel)",
   "language": "python",
   "name": "python3"
  },
  "language_info": {
   "codemirror_mode": {
    "name": "ipython",
    "version": 3
   },
   "file_extension": ".py",
   "mimetype": "text/x-python",
   "name": "python",
   "nbconvert_exporter": "python",
   "pygments_lexer": "ipython3",
   "version": "3.9.13"
  }
 },
 "nbformat": 4,
 "nbformat_minor": 5
}
